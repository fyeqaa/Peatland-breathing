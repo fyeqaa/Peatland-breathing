{
 "cells": [
  {
   "cell_type": "markdown",
   "id": "cf9d5572",
   "metadata": {},
   "source": [
    "# Peatland Breathing Analysis – Murnauer Moos\n",
    "\n",
    "## Objective:\n",
    "- Analyze peatland condition using Sentinel-1 radar VH/VV ratio, Sentinel-2 NDVI, and rainfall data.\n",
    "- Study the temporal dynamics (monthly) and lagged effects of rainfall on vegetation & water content.\n",
    "- Visualize time series, map sample points, and compute correlation tests.\n",
    "\n",
    "## Tools:\n",
    "- Google Earth Engine Python API\n",
    "- geemap for visualization\n",
    "- pandas, numpy for data handling\n",
    "- scipy for correlation analysis\n",
    "- matplotlib & seaborn for plotting\n"
   ]
  },
  {
   "cell_type": "code",
   "execution_count": null,
   "id": "1da36a81",
   "metadata": {},
   "outputs": [
    {
     "data": {
      "text/html": [
       "\n",
       "            <style>\n",
       "                .geemap-dark {\n",
       "                    --jp-widgets-color: white;\n",
       "                    --jp-widgets-label-color: white;\n",
       "                    --jp-ui-font-color1: white;\n",
       "                    --jp-layout-color2: #454545;\n",
       "                    background-color: #383838;\n",
       "                }\n",
       "\n",
       "                .geemap-dark .jupyter-button {\n",
       "                    --jp-layout-color3: #383838;\n",
       "                }\n",
       "\n",
       "                .geemap-colab {\n",
       "                    background-color: var(--colab-primary-surface-color, white);\n",
       "                }\n",
       "\n",
       "                .geemap-colab .jupyter-button {\n",
       "                    --jp-layout-color3: var(--colab-primary-surface-color, white);\n",
       "                }\n",
       "            </style>\n",
       "            "
      ],
      "text/plain": [
       "<IPython.core.display.HTML object>"
      ]
     },
     "metadata": {},
     "output_type": "display_data"
    }
   ],
   "source": [
    "# 1. Import Libraries and Initialize Earth Engine \n",
    "import ee\n",
    "import geemap\n",
    "import pandas as pd\n",
    "import numpy as np\n",
    "from scipy.stats import spearmanr\n",
    "import matplotlib.pyplot as plt\n",
    "import seaborn as sns\n",
    "import matplotlib.pyplot as plt\n",
    "import matplotlib.dates as mdates\n",
    "\n",
    "ee.Initialize()"
   ]
  },
  {
   "cell_type": "code",
   "execution_count": 62,
   "id": "2879740e",
   "metadata": {},
   "outputs": [
    {
     "data": {
      "text/html": [
       "\n",
       "            <style>\n",
       "                .geemap-dark {\n",
       "                    --jp-widgets-color: white;\n",
       "                    --jp-widgets-label-color: white;\n",
       "                    --jp-ui-font-color1: white;\n",
       "                    --jp-layout-color2: #454545;\n",
       "                    background-color: #383838;\n",
       "                }\n",
       "\n",
       "                .geemap-dark .jupyter-button {\n",
       "                    --jp-layout-color3: #383838;\n",
       "                }\n",
       "\n",
       "                .geemap-colab {\n",
       "                    background-color: var(--colab-primary-surface-color, white);\n",
       "                }\n",
       "\n",
       "                .geemap-colab .jupyter-button {\n",
       "                    --jp-layout-color3: var(--colab-primary-surface-color, white);\n",
       "                }\n",
       "            </style>\n",
       "            "
      ],
      "text/plain": [
       "<IPython.core.display.HTML object>"
      ]
     },
     "metadata": {},
     "output_type": "display_data"
    }
   ],
   "source": [
    "#  2. Define Study Area\n",
    "# Define the sample points as a FeatureCollection\n",
    "peatland = ee.Geometry.Point([11.179, 47.645]).buffer(2000);\n",
    "\n",
    "start_date = '2024-01-01'\n",
    "end_date = '2024-12-31'\n",
    "# # Create an interactive map using geemap\n",
    "# Map = geemap.Map(center=[62.785, 30.918], zoom=14)\n",
    "# Map.addLayer(peatland, {'color': 'red'}, 'Peatland Sample Points')\n",
    "# # Display the map\n",
    "# Map\n"
   ]
  },
  {
   "cell_type": "code",
   "execution_count": 63,
   "id": "ced37262",
   "metadata": {},
   "outputs": [
    {
     "data": {
      "text/html": [
       "\n",
       "            <style>\n",
       "                .geemap-dark {\n",
       "                    --jp-widgets-color: white;\n",
       "                    --jp-widgets-label-color: white;\n",
       "                    --jp-ui-font-color1: white;\n",
       "                    --jp-layout-color2: #454545;\n",
       "                    background-color: #383838;\n",
       "                }\n",
       "\n",
       "                .geemap-dark .jupyter-button {\n",
       "                    --jp-layout-color3: #383838;\n",
       "                }\n",
       "\n",
       "                .geemap-colab {\n",
       "                    background-color: var(--colab-primary-surface-color, white);\n",
       "                }\n",
       "\n",
       "                .geemap-colab .jupyter-button {\n",
       "                    --jp-layout-color3: var(--colab-primary-surface-color, white);\n",
       "                }\n",
       "            </style>\n",
       "            "
      ],
      "text/plain": [
       "<IPython.core.display.HTML object>"
      ]
     },
     "metadata": {},
     "output_type": "display_data"
    }
   ],
   "source": [
    "# 3. Sentinel-1 Data Preparation: VH/VV Ratio\n",
    "\n",
    "s1 = (ee.ImageCollection('COPERNICUS/S1_GRD')\n",
    "      .filterBounds(peatland)\n",
    "      .filterDate(start_date, end_date)\n",
    "      .filter(ee.Filter.eq('orbitProperties_pass', 'DESCENDING'))\n",
    "      .filter(ee.Filter.eq('instrumentMode', 'IW'))\n",
    "      .select(['VV', 'VH']))\n",
    "\n",
    "def compute_ratio(img):\n",
    "    ratio = img.select('VH').divide(img.select('VV')).rename('VH_VV_ratio')\n",
    "    ratio_dB = ratio.log10().multiply(10).rename('VH_VV_dB')\n",
    "    return img.addBands([ratio, ratio_dB])\n",
    "\n",
    "s1_ratio = s1.map(compute_ratio)\n",
    "\n",
    "# Extract mean VH/VV ratio time series\n",
    "def extract_mean(img):\n",
    "    mean = img.reduceRegion(ee.Reducer.mean(), peatland, 20)\n",
    "    return ee.Feature(None, {\n",
    "        'date': img.date().format('YYYY-MM-dd'),\n",
    "        'VH_VV_dB': mean.get('VH_VV_dB')\n",
    "    })\n",
    "\n",
    "s1_fc = s1_ratio.map(extract_mean)\n",
    "s1_list = s1_fc.aggregate_array('VH_VV_dB').getInfo()\n",
    "s1_dates = s1_fc.aggregate_array('date').getInfo()\n",
    "s1_df = pd.DataFrame({'date': pd.to_datetime(s1_dates), 'VH_VV_dB': s1_list})"
   ]
  },
  {
   "cell_type": "code",
   "execution_count": 64,
   "id": "65f19208",
   "metadata": {},
   "outputs": [
    {
     "data": {
      "text/html": [
       "\n",
       "            <style>\n",
       "                .geemap-dark {\n",
       "                    --jp-widgets-color: white;\n",
       "                    --jp-widgets-label-color: white;\n",
       "                    --jp-ui-font-color1: white;\n",
       "                    --jp-layout-color2: #454545;\n",
       "                    background-color: #383838;\n",
       "                }\n",
       "\n",
       "                .geemap-dark .jupyter-button {\n",
       "                    --jp-layout-color3: #383838;\n",
       "                }\n",
       "\n",
       "                .geemap-colab {\n",
       "                    background-color: var(--colab-primary-surface-color, white);\n",
       "                }\n",
       "\n",
       "                .geemap-colab .jupyter-button {\n",
       "                    --jp-layout-color3: var(--colab-primary-surface-color, white);\n",
       "                }\n",
       "            </style>\n",
       "            "
      ],
      "text/plain": [
       "<IPython.core.display.HTML object>"
      ]
     },
     "metadata": {},
     "output_type": "display_data"
    }
   ],
   "source": [
    "# 4. Sentinel-2 NDVI Calculation \n",
    "s2 = (ee.ImageCollection('COPERNICUS/S2_SR_HARMONIZED')\n",
    "      .filterBounds(peatland)\n",
    "      .filterDate(start_date, end_date)\n",
    "      .filter(ee.Filter.lt('CLOUDY_PIXEL_PERCENTAGE', 20))\n",
    "      .map(lambda img: img.normalizedDifference(['B8', 'B4']).rename('NDVI')\n",
    "           .copyProperties(img, ['system:time_start'])))\n",
    "# Load MODIS NDVI\n",
    "ndvi = (ee.ImageCollection('MODIS/061/MOD13Q1')\n",
    "        .filterDate('2024-01-01', '2024-12-31')\n",
    "        .filterBounds(peatland)\n",
    "        .select('NDVI'))\n",
    "\n",
    "# MODIS NDVI is scaled by 0.0001\n",
    "def extract_ndvi(img):\n",
    "    mean = img.reduceRegion(ee.Reducer.mean(), peatland, 250)\n",
    "    return ee.Feature(None, {\n",
    "        'date': img.date().format('YYYY-MM-dd'),\n",
    "        'ndvi': ee.Number(mean.get('NDVI')).multiply(0.0001)\n",
    "    })\n",
    "\n",
    "ndvi_fc = ndvi.map(extract_ndvi)\n",
    "\n",
    "# Convert to Pandas\n",
    "ndvi_list = ndvi_fc.aggregate_array('ndvi').getInfo()\n",
    "ndvi_dates = ndvi_fc.aggregate_array('date').getInfo()\n",
    "ndvi_df = pd.DataFrame({'date': pd.to_datetime(ndvi_dates), 'ndvi': ndvi_list})\n"
   ]
  },
  {
   "cell_type": "code",
   "execution_count": 65,
   "id": "00b6f3ee",
   "metadata": {},
   "outputs": [
    {
     "data": {
      "text/html": [
       "\n",
       "            <style>\n",
       "                .geemap-dark {\n",
       "                    --jp-widgets-color: white;\n",
       "                    --jp-widgets-label-color: white;\n",
       "                    --jp-ui-font-color1: white;\n",
       "                    --jp-layout-color2: #454545;\n",
       "                    background-color: #383838;\n",
       "                }\n",
       "\n",
       "                .geemap-dark .jupyter-button {\n",
       "                    --jp-layout-color3: #383838;\n",
       "                }\n",
       "\n",
       "                .geemap-colab {\n",
       "                    background-color: var(--colab-primary-surface-color, white);\n",
       "                }\n",
       "\n",
       "                .geemap-colab .jupyter-button {\n",
       "                    --jp-layout-color3: var(--colab-primary-surface-color, white);\n",
       "                }\n",
       "            </style>\n",
       "            "
      ],
      "text/plain": [
       "<IPython.core.display.HTML object>"
      ]
     },
     "metadata": {},
     "output_type": "display_data"
    }
   ],
   "source": [
    "# 5. Rainfall Data (ERA5-Land daily total precipitation) \n",
    "rain = (ee.ImageCollection(\"ECMWF/ERA5_LAND/DAILY_AGGR\")\n",
    "        .filterBounds(peatland)\n",
    "        .filterDate(start_date, end_date)\n",
    "        .select('total_precipitation_sum'))\n",
    "\n",
    "def convert_rain(img):\n",
    "    mm = img.select('total_precipitation_sum').multiply(1000).rename('rain_mm')\n",
    "    return mm.copyProperties(img, ['system:time_start'])\n",
    "\n",
    "rain_mm = rain.map(convert_rain)\n",
    "\n",
    "#s1_df\n",
    "# Rainfall (CHIRPS)\n",
    "rain = (ee.ImageCollection('UCSB-CHG/CHIRPS/DAILY')\n",
    "        .filterDate('2024-01-01', '2024-12-31')\n",
    "        .filterBounds(peatland))\n",
    "\n",
    "def extract_rain(img):\n",
    "    mean = img.reduceRegion(ee.Reducer.mean(), peatland, 5000)\n",
    "    return ee.Feature(None, {\n",
    "        'date': img.date().format('YYYY-MM-dd'),\n",
    "        'rain_mm': mean.get('precipitation')\n",
    "    })\n",
    "\n",
    "\n",
    "rain_fc = rain.map(extract_rain)\n",
    "rain_list = rain_fc.aggregate_array('rain_mm').getInfo()\n",
    "rain_dates = rain_fc.aggregate_array('date').getInfo()\n",
    "rain_df = pd.DataFrame({'date': pd.to_datetime(rain_dates), 'rain_mm': rain_list})"
   ]
  },
  {
   "cell_type": "code",
   "execution_count": 66,
   "id": "359c39e4",
   "metadata": {},
   "outputs": [
    {
     "data": {
      "text/html": [
       "\n",
       "            <style>\n",
       "                .geemap-dark {\n",
       "                    --jp-widgets-color: white;\n",
       "                    --jp-widgets-label-color: white;\n",
       "                    --jp-ui-font-color1: white;\n",
       "                    --jp-layout-color2: #454545;\n",
       "                    background-color: #383838;\n",
       "                }\n",
       "\n",
       "                .geemap-dark .jupyter-button {\n",
       "                    --jp-layout-color3: #383838;\n",
       "                }\n",
       "\n",
       "                .geemap-colab {\n",
       "                    background-color: var(--colab-primary-surface-color, white);\n",
       "                }\n",
       "\n",
       "                .geemap-colab .jupyter-button {\n",
       "                    --jp-layout-color3: var(--colab-primary-surface-color, white);\n",
       "                }\n",
       "            </style>\n",
       "            "
      ],
      "text/plain": [
       "<IPython.core.display.HTML object>"
      ]
     },
     "metadata": {},
     "output_type": "display_data"
    }
   ],
   "source": [
    "# Load MODIS NDVI\n",
    "ndvi = (ee.ImageCollection('MODIS/061/MOD13Q1')\n",
    "        .filterDate('2024-01-01', '2024-12-31')\n",
    "        .filterBounds(peatland)\n",
    "        .select('NDVI'))\n",
    "\n",
    "# MODIS NDVI is scaled by 0.0001\n",
    "def extract_ndvi(img):\n",
    "    mean = img.reduceRegion(ee.Reducer.mean(), peatland, 250)\n",
    "    return ee.Feature(None, {\n",
    "        'date': img.date().format('YYYY-MM-dd'),\n",
    "        'ndvi': ee.Number(mean.get('NDVI')).multiply(0.0001)\n",
    "    })\n",
    "\n",
    "ndvi_fc = ndvi.map(extract_ndvi)\n",
    "\n",
    "# Convert to Pandas\n",
    "ndvi_list = ndvi_fc.aggregate_array('ndvi').getInfo()\n",
    "ndvi_dates = ndvi_fc.aggregate_array('date').getInfo()\n",
    "ndvi_df = pd.DataFrame({'date': pd.to_datetime(ndvi_dates), 'ndvi': ndvi_list})"
   ]
  },
  {
   "cell_type": "code",
   "execution_count": null,
   "id": "68600453",
   "metadata": {},
   "outputs": [
    {
     "data": {
      "text/html": [
       "\n",
       "            <style>\n",
       "                .geemap-dark {\n",
       "                    --jp-widgets-color: white;\n",
       "                    --jp-widgets-label-color: white;\n",
       "                    --jp-ui-font-color1: white;\n",
       "                    --jp-layout-color2: #454545;\n",
       "                    background-color: #383838;\n",
       "                }\n",
       "\n",
       "                .geemap-dark .jupyter-button {\n",
       "                    --jp-layout-color3: #383838;\n",
       "                }\n",
       "\n",
       "                .geemap-colab {\n",
       "                    background-color: var(--colab-primary-surface-color, white);\n",
       "                }\n",
       "\n",
       "                .geemap-colab .jupyter-button {\n",
       "                    --jp-layout-color3: var(--colab-primary-surface-color, white);\n",
       "                }\n",
       "            </style>\n",
       "            "
      ],
      "text/plain": [
       "<IPython.core.display.HTML object>"
      ]
     },
     "metadata": {},
     "output_type": "display_data"
    },
    {
     "data": {
      "text/html": [
       "<div>\n",
       "<style scoped>\n",
       "    .dataframe tbody tr th:only-of-type {\n",
       "        vertical-align: middle;\n",
       "    }\n",
       "\n",
       "    .dataframe tbody tr th {\n",
       "        vertical-align: top;\n",
       "    }\n",
       "\n",
       "    .dataframe thead th {\n",
       "        text-align: right;\n",
       "    }\n",
       "</style>\n",
       "<table border=\"1\" class=\"dataframe\">\n",
       "  <thead>\n",
       "    <tr style=\"text-align: right;\">\n",
       "      <th></th>\n",
       "      <th>date</th>\n",
       "      <th>VH_VV_dB</th>\n",
       "      <th>ndvi</th>\n",
       "      <th>rain_mm</th>\n",
       "    </tr>\n",
       "  </thead>\n",
       "  <tbody>\n",
       "    <tr>\n",
       "      <th>0</th>\n",
       "      <td>2024-01-31</td>\n",
       "      <td>2.309407</td>\n",
       "      <td>0.373524</td>\n",
       "      <td>93.526803</td>\n",
       "    </tr>\n",
       "    <tr>\n",
       "      <th>1</th>\n",
       "      <td>2024-02-29</td>\n",
       "      <td>2.011815</td>\n",
       "      <td>0.456940</td>\n",
       "      <td>79.174200</td>\n",
       "    </tr>\n",
       "    <tr>\n",
       "      <th>2</th>\n",
       "      <td>2024-03-31</td>\n",
       "      <td>1.916120</td>\n",
       "      <td>0.461752</td>\n",
       "      <td>102.031079</td>\n",
       "    </tr>\n",
       "    <tr>\n",
       "      <th>3</th>\n",
       "      <td>2024-04-30</td>\n",
       "      <td>1.955249</td>\n",
       "      <td>0.555699</td>\n",
       "      <td>75.003656</td>\n",
       "    </tr>\n",
       "    <tr>\n",
       "      <th>4</th>\n",
       "      <td>2024-05-31</td>\n",
       "      <td>1.854753</td>\n",
       "      <td>0.731157</td>\n",
       "      <td>127.698509</td>\n",
       "    </tr>\n",
       "    <tr>\n",
       "      <th>5</th>\n",
       "      <td>2024-06-30</td>\n",
       "      <td>2.248101</td>\n",
       "      <td>0.790513</td>\n",
       "      <td>194.712184</td>\n",
       "    </tr>\n",
       "    <tr>\n",
       "      <th>6</th>\n",
       "      <td>2024-07-31</td>\n",
       "      <td>1.841120</td>\n",
       "      <td>0.837724</td>\n",
       "      <td>131.858895</td>\n",
       "    </tr>\n",
       "    <tr>\n",
       "      <th>7</th>\n",
       "      <td>2024-08-31</td>\n",
       "      <td>1.765509</td>\n",
       "      <td>0.784213</td>\n",
       "      <td>101.467657</td>\n",
       "    </tr>\n",
       "    <tr>\n",
       "      <th>8</th>\n",
       "      <td>2024-09-30</td>\n",
       "      <td>1.968470</td>\n",
       "      <td>0.690063</td>\n",
       "      <td>139.424016</td>\n",
       "    </tr>\n",
       "    <tr>\n",
       "      <th>9</th>\n",
       "      <td>2024-10-31</td>\n",
       "      <td>1.900523</td>\n",
       "      <td>0.542302</td>\n",
       "      <td>93.271234</td>\n",
       "    </tr>\n",
       "    <tr>\n",
       "      <th>10</th>\n",
       "      <td>2024-11-30</td>\n",
       "      <td>2.108115</td>\n",
       "      <td>0.550054</td>\n",
       "      <td>42.226103</td>\n",
       "    </tr>\n",
       "    <tr>\n",
       "      <th>11</th>\n",
       "      <td>2024-12-31</td>\n",
       "      <td>2.047011</td>\n",
       "      <td>0.542945</td>\n",
       "      <td>66.143116</td>\n",
       "    </tr>\n",
       "  </tbody>\n",
       "</table>\n",
       "</div>"
      ],
      "text/plain": [
       "         date  VH_VV_dB      ndvi     rain_mm\n",
       "0  2024-01-31  2.309407  0.373524   93.526803\n",
       "1  2024-02-29  2.011815  0.456940   79.174200\n",
       "2  2024-03-31  1.916120  0.461752  102.031079\n",
       "3  2024-04-30  1.955249  0.555699   75.003656\n",
       "4  2024-05-31  1.854753  0.731157  127.698509\n",
       "5  2024-06-30  2.248101  0.790513  194.712184\n",
       "6  2024-07-31  1.841120  0.837724  131.858895\n",
       "7  2024-08-31  1.765509  0.784213  101.467657\n",
       "8  2024-09-30  1.968470  0.690063  139.424016\n",
       "9  2024-10-31  1.900523  0.542302   93.271234\n",
       "10 2024-11-30  2.108115  0.550054   42.226103\n",
       "11 2024-12-31  2.047011  0.542945   66.143116"
      ]
     },
     "execution_count": 67,
     "metadata": {},
     "output_type": "execute_result"
    }
   ],
   "source": [
    "# Convert 'date' to datetime and set as index if not already\n",
    "s1_df['date'] = pd.to_datetime(s1_df['date'])\n",
    "s1_df.set_index('date', inplace=True)\n",
    "\n",
    "ndvi_df['date'] = pd.to_datetime(ndvi_df['date'])\n",
    "ndvi_df.set_index('date', inplace=True)\n",
    "\n",
    "rain_df['date'] = pd.to_datetime(rain_df['date'])\n",
    "rain_df.set_index('date', inplace=True)\n",
    "# Resample monthly and aggregate\n",
    "s1_monthly = s1_df.resample('M').mean().reset_index()     \n",
    "ndvi_monthly = ndvi_df.resample('M').mean().reset_index()\n",
    "rain_monthly = rain_df.resample('M').sum().reset_index()  \n",
    "\n",
    "# Merge monthly dataframes on 'date'\n",
    "merged_monthly = pd.merge(s1_monthly, ndvi_monthly, on='date', how='outer')\n",
    "merged_monthly = pd.merge(merged_monthly, rain_monthly, on='date', how='outer')\n",
    "\n",
    "merged_monthly = merged_monthly.sort_values('date').reset_index(drop=True)"
   ]
  },
  {
   "cell_type": "code",
   "execution_count": 71,
   "id": "e0836484",
   "metadata": {},
   "outputs": [
    {
     "data": {
      "text/html": [
       "\n",
       "            <style>\n",
       "                .geemap-dark {\n",
       "                    --jp-widgets-color: white;\n",
       "                    --jp-widgets-label-color: white;\n",
       "                    --jp-ui-font-color1: white;\n",
       "                    --jp-layout-color2: #454545;\n",
       "                    background-color: #383838;\n",
       "                }\n",
       "\n",
       "                .geemap-dark .jupyter-button {\n",
       "                    --jp-layout-color3: #383838;\n",
       "                }\n",
       "\n",
       "                .geemap-colab {\n",
       "                    background-color: var(--colab-primary-surface-color, white);\n",
       "                }\n",
       "\n",
       "                .geemap-colab .jupyter-button {\n",
       "                    --jp-layout-color3: var(--colab-primary-surface-color, white);\n",
       "                }\n",
       "            </style>\n",
       "            "
      ],
      "text/plain": [
       "<IPython.core.display.HTML object>"
      ]
     },
     "metadata": {},
     "output_type": "display_data"
    },
    {
     "data": {
      "image/png": "[encoded data removed]",
      "text/plain": [
       "<Figure size 1200x600 with 3 Axes>"
      ]
     },
     "metadata": {},
     "output_type": "display_data"
    }
   ],
   "source": [
    "fig, ax1 = plt.subplots(figsize=(12,6))\n",
    "\n",
    "ax1.plot(merged_monthly['date'], merged_monthly['VH_VV_dB'], color='tab:blue', label='VH/VV Ratio (dB)')\n",
    "ax1.set_xlabel(\"Date\")\n",
    "ax1.set_ylabel(\"VH/VV Ratio (dB)\", color='tab:blue')\n",
    "ax1.tick_params(axis='y', labelcolor='tab:blue')\n",
    "\n",
    "ax2 = ax1.twinx()\n",
    "ax2.bar(merged_monthly['date'], merged_monthly['rain_mm'], color='tab:red', alpha=0.3, label='Rainfall (mm)')\n",
    "ax2.set_ylabel(\"Rainfall (mm)\", color='tab:red')\n",
    "ax2.tick_params(axis='y', labelcolor='tab:red')\n",
    "\n",
    "ax3 = ax1.twinx()\n",
    "ax3.spines['right'].set_position(('outward', 60))\n",
    "ax3.plot(merged_monthly['date'], merged_monthly['ndvi'], color='tab:green', label='NDVI')\n",
    "ax3.set_ylabel(\"NDVI\", color='tab:green')\n",
    "ax3.tick_params(axis='y', labelcolor='tab:green')\n",
    "\n",
    "# Set explicit x-axis limits to start Jan 1 and end Dec 31 of the year(s) in your data\n",
    "start_date = pd.to_datetime(f'{merged_monthly[\"date\"].dt.year.min()}-01-01')\n",
    "end_date = pd.to_datetime(f'{merged_monthly[\"date\"].dt.year.max()}-12-31')\n",
    "ax1.set_xlim(start_date, end_date)\n",
    "\n",
    "# Set major ticks to the 1st day of each month\n",
    "ax1.xaxis.set_major_locator(mdates.MonthLocator(bymonthday=1))\n",
    "ax1.xaxis.set_major_formatter(mdates.DateFormatter('%b'))\n",
    "\n",
    "# Rotate month labels for clarity\n",
    "plt.setp(ax1.xaxis.get_majorticklabels(), rotation=45)\n",
    "\n",
    "fig.suptitle(\"Murnauer Moos – Monthly VH/VV Ratio, Rainfall & NDVI (2024)\", fontsize=14)\n",
    "fig.tight_layout()\n",
    "plt.show()"
   ]
  },
  {
   "cell_type": "code",
   "execution_count": 72,
   "id": "ec479e87",
   "metadata": {},
   "outputs": [
    {
     "data": {
      "text/html": [
       "\n",
       "            <style>\n",
       "                .geemap-dark {\n",
       "                    --jp-widgets-color: white;\n",
       "                    --jp-widgets-label-color: white;\n",
       "                    --jp-ui-font-color1: white;\n",
       "                    --jp-layout-color2: #454545;\n",
       "                    background-color: #383838;\n",
       "                }\n",
       "\n",
       "                .geemap-dark .jupyter-button {\n",
       "                    --jp-layout-color3: #383838;\n",
       "                }\n",
       "\n",
       "                .geemap-colab {\n",
       "                    background-color: var(--colab-primary-surface-color, white);\n",
       "                }\n",
       "\n",
       "                .geemap-colab .jupyter-button {\n",
       "                    --jp-layout-color3: var(--colab-primary-surface-color, white);\n",
       "                }\n",
       "            </style>\n",
       "            "
      ],
      "text/plain": [
       "<IPython.core.display.HTML object>"
      ]
     },
     "metadata": {},
     "output_type": "display_data"
    },
    {
     "name": "stdout",
     "output_type": "stream",
     "text": [
      "          VH_VV_dB   rain_mm      ndvi\n",
      "VH_VV_dB  1.000000  0.008292 -0.224022\n",
      "rain_mm   0.008292  1.000000  0.124295\n",
      "ndvi     -0.224022  0.124295  1.000000\n"
     ]
    }
   ],
   "source": [
    "corr_matrix = merged_df[['VH_VV_dB', 'rain_mm', 'ndvi']].corr()\n",
    "print(corr_matrix)\n"
   ]
  }
 ],
 "metadata": {
  "kernelspec": {
   "display_name": "fire_project",
   "language": "python",
   "name": "python3"
  },
  "language_info": {
   "codemirror_mode": {
    "name": "ipython",
    "version": 3
   },
   "file_extension": ".py",
   "mimetype": "text/x-python",
   "name": "python",
   "nbconvert_exporter": "python",
   "pygments_lexer": "ipython3",
   "version": "3.8.19"
  }
 },
 "nbformat": 4,
 "nbformat_minor": 5
}
